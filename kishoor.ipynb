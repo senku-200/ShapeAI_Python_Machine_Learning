{
  "nbformat": 4,
  "nbformat_minor": 0,
  "metadata": {
    "colab": {
      "provenance": [],
      "collapsed_sections": []
    },
    "kernelspec": {
      "name": "python3",
      "display_name": "Python 3"
    },
    "language_info": {
      "name": "python"
    }
  },
  "cells": [
    {
      "cell_type": "code",
      "source": [
        "import pandas as pd\n",
        "import numpy as np\n",
        "import sklearn"
      ],
      "metadata": {
        "id": "7jCpJenlChfN"
      },
      "execution_count": 25,
      "outputs": []
    },
    {
      "cell_type": "code",
      "source": [
        "from sklearn.datasets import load_boston"
      ],
      "metadata": {
        "id": "onViC_onCwg7"
      },
      "execution_count": 30,
      "outputs": []
    },
    {
      "cell_type": "code",
      "source": [
        "bn = load_boston()\n",
        "bn.keys()"
      ],
      "metadata": {
        "id": "LiU_iOH1DZcM"
      },
      "execution_count": null,
      "outputs": []
    },
    {
      "cell_type": "code",
      "source": [
        "boston = pd.DataFrame(bn.data,columns=bn.feature_names)\n",
        "boston.head()"
      ],
      "metadata": {
        "id": "B0gN92D9Dhyy"
      },
      "execution_count": null,
      "outputs": []
    },
    {
      "cell_type": "code",
      "source": [
        "boston['MID'] = bn.target"
      ],
      "metadata": {
        "id": "3ioZOUxqIflt"
      },
      "execution_count": 55,
      "outputs": []
    },
    {
      "cell_type": "code",
      "source": [
        "from sklearn.model_selection import train_test_split\n",
        "x,y = boston.drop(\"MID\",axis=1),boston[\"MID\"]\n",
        "x_tr,x_te,y_tr,y_te = train_test_split(x,y,train_size=0.15,random_state=5)"
      ],
      "metadata": {
        "id": "iesUgGPXJd0W"
      },
      "execution_count": 58,
      "outputs": []
    },
    {
      "cell_type": "code",
      "source": [
        "from sklearn.linear_model import LinearRegression\n",
        "from sklearn.metrics import mean_squared_error"
      ],
      "metadata": {
        "id": "9UO2qj9dKwlg"
      },
      "execution_count": 47,
      "outputs": []
    },
    {
      "cell_type": "code",
      "source": [
        "lin_model = LinearRegression()\n",
        "lin_model.fit(x_tr,y_tr)"
      ],
      "metadata": {
        "id": "ofqQHvvZLKKu"
      },
      "execution_count": null,
      "outputs": []
    },
    {
      "cell_type": "code",
      "source": [
        "y_tr_predict = lin_model.predict(x_tr)\n",
        "result_tr = np.sqrt(mean_squared_error(y_tr,y_tr_predict))\n",
        "print(result_tr)\n",
        "y_te_predict = lin_model.predict(x_te)\n",
        "result_te = np.sqrt(mean_squared_error(y_te,y_te_predict))\n",
        "print(result_te)\n"
      ],
      "metadata": {
        "colab": {
          "base_uri": "https://localhost:8080/"
        },
        "id": "b5Lrj1k1LjFL",
        "outputId": "58e44a5b-2d19-4866-c5cf-9bde16961bc1"
      },
      "execution_count": 64,
      "outputs": [
        {
          "output_type": "stream",
          "name": "stdout",
          "text": [
            "4.23619846950763\n",
            "5.032493540406417\n"
          ]
        }
      ]
    }
  ]
}